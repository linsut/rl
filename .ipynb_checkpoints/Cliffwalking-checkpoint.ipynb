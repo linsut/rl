{
 "cells": [
  {
   "cell_type": "markdown",
   "id": "ae645ee1-8b9a-4d75-a4ff-919e4bf1c131",
   "metadata": {},
   "source": [
    "# Implementation of Reinforcement Learning algorithms for cliffwalking environment"
   ]
  },
  {
   "cell_type": "code",
   "execution_count": 1,
   "id": "6ce52310-6b74-49ed-b607-330b66ef5a40",
   "metadata": {},
   "outputs": [],
   "source": [
    "import gym\n",
    "import gym.spaces\n",
    "import numpy as np\n",
    "import random\n",
    "import scipy\n",
    "import matplotlib.pyplot as plot\n",
    "\n",
    "#Cliffwalking gym environment\n",
    "env = gym.make('CliffWalking-v0')"
   ]
  },
  {
   "cell_type": "code",
   "execution_count": 2,
   "id": "f6c84e5a-6aab-497c-b07d-899a421598b5",
   "metadata": {
    "jupyter": {
     "source_hidden": true
    },
    "tags": []
   },
   "outputs": [],
   "source": [
    "def execute():\n",
    "    print (\"Ausführungsphase\")\n",
    "    # Umgebung zurücksetzen\n",
    "    env.reset()\n",
    "    # Variablen initialisieren\n",
    "    done = False\n",
    "    steps = 0\n",
    "    score = 0\n",
    "    \n",
    "    while(done == False):\n",
    "        # Bewertung der Aktionen:\n",
    "        # -100 für Fallen (Cliff)\n",
    "        # -1 für alle anderen Aktionen\n",
    "        # next_state, reward, done, _ = env.step(action)\n",
    "        # 0 = Up, 1 = Right, 2 = Down, 3 = Left\n",
    "        \n",
    "        # Zählt die Schritte bis zum Spielende\n",
    "        steps += 1\n",
    "        # Wählt eine zufällige Aktion aus allen verfügbaren (dem action_space)\n",
    "        action = env.action_space.sample() \n",
    "              \n",
    "        # Führe die ausgewählte Aktion aus\n",
    "        _, reward, done,_ = env.step(action)\n",
    "        \n",
    "        score += reward\n",
    "        \n",
    "    print (f\"Schritte: {steps}, Ergebnis: {score}\")"
   ]
  },
  {
   "cell_type": "code",
   "execution_count": 3,
   "id": "7d14aa1f-9867-4c16-b7e4-e8d672b7b2a1",
   "metadata": {
    "jupyter": {
     "source_hidden": true
    },
    "tags": []
   },
   "outputs": [
    {
     "name": "stdout",
     "output_type": "stream",
     "text": [
      "Ausführungsphase\n",
      "Schritte: 1678, Ergebnis: -15439\n",
      "o  o  o  o  o  o  o  o  o  o  o  o\n",
      "o  o  o  o  o  o  o  o  o  o  o  o\n",
      "o  o  o  o  o  o  o  o  o  o  o  o\n",
      "o  C  C  C  C  C  C  C  C  C  C  x\n",
      "\n"
     ]
    }
   ],
   "source": [
    "execute()\n",
    "env.render()"
   ]
  },
  {
   "cell_type": "code",
   "execution_count": 4,
   "id": "3d38dd8b-5301-4ea4-87be-d521a52efc5e",
   "metadata": {},
   "outputs": [],
   "source": [
    "# Agent.py\n",
    " \n",
    "import numpy as np\n",
    " \n",
    "class Agent:\n",
    "    \"\"\"\n",
    "    The Base class that is implemented by\n",
    "    other classes to avoid the duplicate 'choose_action'\n",
    "    method\n",
    "    \"\"\"\n",
    "    def choose_action(self, state):\n",
    "        action = 0\n",
    "        if np.random.uniform(0, 1) < self.epsilon:\n",
    "            action = self.action_space.sample()\n",
    "        else:\n",
    "            action = np.argmax(self.Q[state, :])\n",
    "        return action"
   ]
  },
  {
   "cell_type": "markdown",
   "id": "fae4908a-363c-46db-a771-9830240e4886",
   "metadata": {},
   "source": [
    "## Q-Learning"
   ]
  },
  {
   "cell_type": "code",
   "execution_count": 5,
   "id": "a2089e22-ab7e-49c6-b833-6e2af1b40b95",
   "metadata": {},
   "outputs": [],
   "source": [
    "class QLearningAgent(Agent):\n",
    "    def __init__(self, epsilon, alpha, gamma, num_state, num_actions, action_space):\n",
    "        \"\"\"\n",
    "        Constructor\n",
    "        Args:\n",
    "            epsilon: The degree of exploration\n",
    "            gamma: The discount factor\n",
    "            num_state: The number of states\n",
    "            num_actions: The number of actions\n",
    "            action_space: To call the random action\n",
    "        \"\"\"\n",
    "        self.epsilon = epsilon\n",
    "        self.alpha = alpha\n",
    "        self.gamma = gamma\n",
    "        self.num_state = num_state\n",
    "        self.num_actions = num_actions\n",
    " \n",
    "        self.Q = np.zeros((self.num_state, self.num_actions))\n",
    "        self.action_space = action_space\n",
    "        \n",
    "    def update(self, state, next_state, reward, action, next_action):\n",
    "        \"\"\"\n",
    "        Update the action value function using the Q-Learning update.\n",
    "        Q(S, A) = Q(S, A) + alpha(reward + (gamma * Q(S_, A_) - Q(S, A))\n",
    "        Args:\n",
    "            state: The current state\n",
    "            next_state: The next state\n",
    "            reward: The reward for taking the respective action\n",
    "            action: The current action\n",
    "            next_action: The next action\n",
    "        Returns:\n",
    "            None\n",
    "        \"\"\"\n",
    "        target = reward + self.gamma * np.max(self.Q[next_state, :])\n",
    "        self.Q[state, action] += self.alpha * (target - self.Q[state, action])"
   ]
  },
  {
   "cell_type": "markdown",
   "id": "2b432e3e-4c70-4804-bb57-6c72b199c8ce",
   "metadata": {},
   "source": [
    "# SARSA"
   ]
  },
  {
   "cell_type": "code",
   "execution_count": 6,
   "id": "972511c5-5798-4722-a9a1-fb363aa5694f",
   "metadata": {},
   "outputs": [],
   "source": [
    "class SarsaAgent(Agent):\n",
    "    \"\"\"\n",
    "    The Agent that uses SARSA update to improve it's behaviour\n",
    "    \"\"\"\n",
    "    def __init__(self, epsilon, alpha, gamma, num_state, num_actions, action_space):\n",
    "        \"\"\"\n",
    "        Constructor\n",
    "        Args:\n",
    "            epsilon: The degree of exploration\n",
    "            gamma: The discount factor\n",
    "            num_state: The number of states\n",
    "            num_actions: The number of actions\n",
    "            action_space: To call the random action\n",
    "        \"\"\"\n",
    "        self.epsilon = epsilon\n",
    "        self.alpha = alpha\n",
    "        self.gamma = gamma\n",
    "        self.num_state = num_state\n",
    "        self.num_actions = num_actions\n",
    " \n",
    "        self.Q = np.zeros((self.num_state, self.num_actions))\n",
    "        self.action_space = action_space\n",
    " \n",
    "    def update(self, state, next_state, reward, action, next_action):\n",
    "        \"\"\"\n",
    "        Update the action value function using the SARSA update.\n",
    "        Q(S, A) = Q(S, A) + alpha(reward + (gamma * Q(S_, A_) - Q(S, A))\n",
    "        Args:\n",
    "            state: The current state\n",
    "            next_state: The next state\n",
    "            reward: The reward for taking the respective action\n",
    "            action: The current action\n",
    "            next_action: The next action\n",
    "        Returns:\n",
    "            None\n",
    "        \"\"\"\n",
    "        target = reward + self.gamma * self.Q[next_state, next_action]\n",
    "        self.Q[state, action] += self.alpha * (target - self.Q[state, action])"
   ]
  },
  {
   "cell_type": "markdown",
   "id": "4b7b5290-7552-47d8-bacc-36d82061e8c1",
   "metadata": {},
   "source": [
    "## Double Q"
   ]
  },
  {
   "cell_type": "code",
   "execution_count": 7,
   "id": "092cad1f-abb3-4dbf-b7d2-0c1f704d62bb",
   "metadata": {},
   "outputs": [],
   "source": [
    "class DoubleQAgent(Agent):\n",
    "    def __init__(self, epsilon, alpha, gamma, num_state, num_actions, action_space):\n",
    "        \"\"\"\n",
    "        Constructor\n",
    "        Args:\n",
    "            epsilon: The degree of exploration\n",
    "            gamma: The discount factor\n",
    "            num_state: The number of states\n",
    "            num_actions: The number of actions\n",
    "            action_space: To call the random action\n",
    "        \"\"\"\n",
    "        self.epsilon = epsilon\n",
    "        self.alpha = alpha\n",
    "        self.gamma = gamma\n",
    "        self.num_state = num_state\n",
    "        self.num_actions = num_actions\n",
    " \n",
    "        self.Q1 = np.zeros((self.num_state, self.num_actions))\n",
    "        self.Q2 = np.zeros((self.num_state, self.num_actions))\n",
    "        self.Q = np.zeros((self.num_state, self.num_actions))\n",
    "        self.action_space = action_space\n",
    "    def update(self, state, next_state, reward, action, next_action):\n",
    "        \"\"\"\n",
    "        Update the action value function using the Double-Q update.\n",
    "        Q1(S, A) = Q1(S, A) + alpha(reward + (gamma * Q2(S_, A_) - Q1(S, A))\n",
    "        or\n",
    "        Q2(S, A) = Q2(S, A) + alpha(reward + (gamma * Q1(S_, A_) - Q2(S, A))\n",
    "        Args:\n",
    "            state: The previous state\n",
    "            next_state: The next state\n",
    "            reward: The reward for taking the respective action\n",
    "            prev_action: The previous action\n",
    "            next_action: The next action\n",
    "        Returns:\n",
    "            None\n",
    "        \"\"\"\n",
    "        if np.random.rand() < 0.5:\n",
    "            target = reward + self.gamma * self.Q2[next_state, np.argmax(self.Q1[next_state])]\n",
    "            self.Q1[state, action] += self.alpha * (target - self.Q1[state, action])\n",
    "            \n",
    "        else:\n",
    "            target = reward + self.gamma * self.Q1[next_state, np.argmax(self.Q2[next_state])]\n",
    "            self.Q2[state, action] += self.alpha * (target - self.Q2[state, action])\n",
    "            \n",
    "        self.Q = self.Q1 + self.Q2  \n",
    "    "
   ]
  },
  {
   "cell_type": "markdown",
   "id": "803a739f-e932-47c8-a77d-0835f1cca8c9",
   "metadata": {},
   "source": [
    "## Expected Sarsa"
   ]
  },
  {
   "cell_type": "code",
   "execution_count": 8,
   "id": "400e8bbd-e190-4352-a550-9c676d296394",
   "metadata": {},
   "outputs": [],
   "source": [
    "class ExpectedSarsaAgent(Agent):\n",
    "    def __init__(self, epsilon, alpha, gamma, num_state, num_actions, action_space):\n",
    "        \"\"\"\n",
    "        Constructor\n",
    "        Args:\n",
    "            epsilon: The degree of exploration\n",
    "            gamma: The discount factor\n",
    "            num_state: The number of states\n",
    "            num_actions: The number of actions\n",
    "            action_space: To call the random action\n",
    "        \"\"\"\n",
    "        self.epsilon = epsilon\n",
    "        self.alpha = alpha\n",
    "        self.gamma = gamma\n",
    "        self.num_state = num_state\n",
    "        self.num_actions = num_actions\n",
    " \n",
    "        self.Q = np.zeros((self.num_state, self.num_actions))\n",
    "        self.action_space = action_space\n",
    "    def update(self, state, next_state, reward, action, next_action):\n",
    "        \"\"\"\n",
    "        Update the action value function using the Expected SARSA update.\n",
    "        Q(S, A) = Q(S, A) + alpha(reward + sum(pi * Q(S_, A_) - Q(S, A))\n",
    "        Args:\n",
    "            state: The current state\n",
    "            next_state: The next state\n",
    "            reward: The reward for taking the respective action\n",
    "            action: The current action\n",
    "            next_action: The next action\n",
    "        Returns:\n",
    "            None\n",
    "        \"\"\" \n",
    " \n",
    "        expected_q = 0\n",
    "        q_max = np.max(self.Q[next_state, :])\n",
    "        greedy_actions = 0\n",
    "        for i in range(self.num_actions):\n",
    "            if self.Q[next_state][i] == q_max:\n",
    "                greedy_actions += 1\n",
    "     \n",
    "        non_greedy_action_probability = self.epsilon / self.num_actions\n",
    "        greedy_action_probability = ((1 - self.epsilon) / greedy_actions) + non_greedy_action_probability\n",
    " \n",
    "        for i in range(self.num_actions):\n",
    "            if self.Q[next_state][i] == q_max:\n",
    "                expected_q += self.Q[next_state][i] * greedy_action_probability\n",
    "            else:\n",
    "                expected_q += self.Q[next_state][i] * non_greedy_action_probability\n",
    " \n",
    "        target = reward + self.gamma * expected_q\n",
    "        self.Q[state, action] += self.alpha * (target - self.Q[state, action])"
   ]
  },
  {
   "cell_type": "markdown",
   "id": "a1dc06ac-f024-468a-859e-738a34c3d644",
   "metadata": {},
   "source": [
    "## Execution and Analysis"
   ]
  },
  {
   "cell_type": "code",
   "execution_count": 9,
   "id": "bf0f08f3-04bd-47cd-8031-a203e7db390e",
   "metadata": {},
   "outputs": [
    {
     "name": "stdout",
     "output_type": "stream",
     "text": [
      "SarsaAgent\n",
      "Iteration: 0, Score: -96\n",
      "Iteration: 100, Score: -17\n",
      "Iteration: 200, Score: -17\n",
      "Iteration: 300, Score: -17\n",
      "Iteration: 400, Score: -19\n"
     ]
    },
    {
     "data": {
      "image/png": "[encoded data removed]",
      "text/plain": [
       "<Figure size 432x288 with 1 Axes>"
      ]
     },
     "metadata": {
      "needs_background": "light"
     },
     "output_type": "display_data"
    },
    {
     "name": "stdout",
     "output_type": "stream",
     "text": [
      "QLearningAgent\n",
      "Iteration: 0, Score: -100\n",
      "Iteration: 100, Score: -14\n",
      "Iteration: 200, Score: -13\n",
      "Iteration: 300, Score: -13\n",
      "Iteration: 400, Score: -13\n"
     ]
    },
    {
     "data": {
      "image/png": "[encoded data removed]",
      "text/plain": [
       "<Figure size 432x288 with 1 Axes>"
      ]
     },
     "metadata": {
      "needs_background": "light"
     },
     "output_type": "display_data"
    },
    {
     "name": "stdout",
     "output_type": "stream",
     "text": [
      "DoubleQAgent\n",
      "Iteration: 0, Score: -100\n",
      "Iteration: 100, Score: -19\n",
      "Iteration: 200, Score: -17\n",
      "Iteration: 300, Score: -19\n",
      "Iteration: 400, Score: -17\n"
     ]
    },
    {
     "data": {
      "image/png": "[encoded data removed]",
      "text/plain": [
       "<Figure size 432x288 with 1 Axes>"
      ]
     },
     "metadata": {
      "needs_background": "light"
     },
     "output_type": "display_data"
    },
    {
     "name": "stdout",
     "output_type": "stream",
     "text": [
      "ExpectedSarsaAgent\n",
      "Iteration: 0, Score: -88\n",
      "Iteration: 100, Score: -15\n",
      "Iteration: 200, Score: -15\n",
      "Iteration: 300, Score: -15\n",
      "Iteration: 400, Score: -15\n"
     ]
    },
    {
     "data": {
      "image/png": "[encoded data removed]",
      "text/plain": [
       "<Figure size 432x288 with 1 Axes>"
      ]
     },
     "metadata": {
      "needs_background": "light"
     },
     "output_type": "display_data"
    },
    {
     "name": "stdout",
     "output_type": "stream",
     "text": [
      "SARSA Average Sum of Reward: -26.368\n",
      "Q-Learning Average Sum of Return: -25.154\n",
      "Double-Q Average Sum of Return: -34.166\n",
      "Expected Sarsa Average Sum of Return: -22.61\n"
     ]
    }
   ],
   "source": [
    "# Defining all the required parameters\n",
    "epsilon = 0.1\n",
    "total_episodes = 500\n",
    "max_steps = 100\n",
    "alpha = 0.5\n",
    "gamma = 1\n",
    "\n",
    "\"\"\"\n",
    "    The two parameters below are used to calculate\n",
    "    the reward by each algorithm\n",
    "\"\"\"\n",
    "episodeReward = 0\n",
    "totalReward = {\n",
    "    'SarsaAgent': [],\n",
    "    'QLearningAgent': [],\n",
    "    'DoubleQAgent': [],\n",
    "    'ExpectedSarsaAgent': []\n",
    "}\n",
    " \n",
    "# Defining all the agents\n",
    "expectedSarsaAgent = ExpectedSarsaAgent(\n",
    "    epsilon, alpha, gamma, env.observation_space.n,\n",
    "    env.action_space.n, env.action_space)\n",
    "qLearningAgent = QLearningAgent(\n",
    "    epsilon, alpha, gamma, env.observation_space.n,\n",
    "    env.action_space.n, env.action_space)\n",
    "doubleQAgent = DoubleQAgent(\n",
    "    epsilon, alpha, gamma, env.observation_space.n,\n",
    "    env.action_space.n, env.action_space)\n",
    "sarsaAgent = SarsaAgent(\n",
    "    epsilon, alpha, gamma, env.observation_space.n,\n",
    "    env.action_space.n, env.action_space)\n",
    " \n",
    "# Now we run all the episodes and calculate the reward obtained by\n",
    "# each agent at the end of the episode\n",
    " \n",
    "agents = [sarsaAgent, qLearningAgent, doubleQAgent, expectedSarsaAgent]\n",
    " \n",
    "for agent in agents:\n",
    "    print(type(agent).__name__)\n",
    "    scores = []\n",
    "    for episode in range(total_episodes):\n",
    "        # Initialize the necessary parameters before\n",
    "        # the start of the episode\n",
    "        t = 0\n",
    "        state1 = env.reset()\n",
    "        action1 = agent.choose_action(state1)\n",
    "        episodeReward = 0\n",
    "        while t < max_steps:\n",
    " \n",
    "            # Getting the next state, reward, and other parameters\n",
    "            state2, reward, done, info = env.step(action1)\n",
    "     \n",
    "            # Choosing the next action\n",
    "            action2 = agent.choose_action(state2)\n",
    "             \n",
    "            # Learning the Q-value\n",
    "            agent.update(state1, state2, reward, action1, action2)\n",
    "     \n",
    "            state1 = state2\n",
    "            action1 = action2\n",
    "             \n",
    "            # Updating the respective vaLues\n",
    "            t += 1\n",
    "            episodeReward += reward\n",
    "             \n",
    "            # If at the end of learning process\n",
    "            if done:\n",
    "                break\n",
    "                \n",
    "        scores.append(episodeReward)\n",
    "        # Plot episode Rewards\n",
    "        plot.plot(scores, \".\")\n",
    "        # Append the sum of reward at the end of the episode\n",
    "        totalReward[type(agent).__name__].append(episodeReward)\n",
    "        \n",
    "        # Show reward every 100 episodes\n",
    "        if(episode % 100 == 0):\n",
    "            print (f\"Iteration: {episode}, Score: {episodeReward}\")\n",
    "            \n",
    "        # Epsilon reduction (if still over a specific minimum)\n",
    "        if (agent.epsilon > 0.01):\n",
    "            agent.epsilon *= 0.98\n",
    "        \n",
    "    plot.show()\n",
    "    \n",
    "env.close()\n",
    " \n",
    "# Calculate the mean of sum of returns for each episode\n",
    "meanReturn = {\n",
    "    'SARSA-Agent': np.mean(totalReward['SarsaAgent']),\n",
    "    'Q-Learning-Agent': np.mean(totalReward['QLearningAgent']),\n",
    "    'Double-Q-Agent': np.mean(totalReward['DoubleQAgent']),\n",
    "    'Expected-SARSA-Agent': np.mean(totalReward['ExpectedSarsaAgent'])\n",
    "}\n",
    " \n",
    "# Print the results\n",
    "print(f\"SARSA Average Sum of Reward: {meanReturn['SARSA-Agent']}\")\n",
    "print(f\"Q-Learning Average Sum of Return: {meanReturn['Q-Learning-Agent']}\")\n",
    "print(f\"Double-Q Average Sum of Return: {meanReturn['Double-Q-Agent']}\")\n",
    "print(f\"Expected Sarsa Average Sum of Return: {meanReturn['Expected-SARSA-Agent']}\")"
   ]
  },
  {
   "cell_type": "code",
   "execution_count": 10,
   "id": "18f6768a-cb25-49b3-9500-3e02c5a4f6b8",
   "metadata": {},
   "outputs": [
    {
     "name": "stdout",
     "output_type": "stream",
     "text": [
      "\n",
      "Estimated Optimal Policy for SarsaAgent (UP = 0, RIGHT = 1, DOWN = 2, LEFT = 3, N/A = -1):\n",
      "[[1 1 1 1 1 1 1 1 1 1 2 2]\n",
      " [0 1 3 0 3 1 1 2 1 0 1 2]\n",
      " [0 0 0 1 0 0 0 1 0 3 1 2]\n",
      " [0 0 0 0 0 0 0 0 0 0 0 0]]\n",
      "\n",
      "Estimated Optimal Policy for QLearningAgent (UP = 0, RIGHT = 1, DOWN = 2, LEFT = 3, N/A = -1):\n",
      "[[1 2 2 1 1 1 3 1 1 1 1 2]\n",
      " [1 0 2 2 3 0 1 1 1 1 2 2]\n",
      " [1 1 1 1 1 1 1 1 1 1 1 2]\n",
      " [0 0 0 0 0 0 0 0 0 0 0 0]]\n",
      "\n",
      "Estimated Optimal Policy for DoubleQAgent (UP = 0, RIGHT = 1, DOWN = 2, LEFT = 3, N/A = -1):\n",
      "[[1 1 1 1 1 1 1 2 2 1 2 3]\n",
      " [0 0 0 0 0 1 1 1 2 2 3 2]\n",
      " [0 1 0 0 0 1 0 0 1 1 1 2]\n",
      " [0 0 0 0 0 0 0 0 0 0 0 0]]\n",
      "\n",
      "Estimated Optimal Policy for ExpectedSarsaAgent (UP = 0, RIGHT = 1, DOWN = 2, LEFT = 3, N/A = -1):\n",
      "[[3 1 0 1 3 1 1 2 1 2 1 2]\n",
      " [1 1 1 1 1 1 1 1 1 1 1 2]\n",
      " [0 1 1 1 1 1 1 1 1 1 1 2]\n",
      " [0 0 0 0 0 0 0 0 0 0 0 0]]\n"
     ]
    }
   ],
   "source": [
    "for agent in agents:\n",
    "    # print the estimated optimal policy\n",
    "    policy = np.array([np.argmax(agent.Q[key]) for key in np.arange(48)]).reshape((4,12))\n",
    "\n",
    "    print(\"\\nEstimated Optimal Policy for\", type(agent).__name__, \"(UP = 0, RIGHT = 1, DOWN = 2, LEFT = 3, N/A = -1):\")\n",
    "    print(policy)"
   ]
  },
  {
   "cell_type": "code",
   "execution_count": null,
   "id": "45fe79c6-62c9-45ca-8313-b59e2aa6c2bf",
   "metadata": {},
   "outputs": [],
   "source": []
  }
 ],
 "metadata": {
  "kernelspec": {
   "display_name": "Python 3 (ipykernel)",
   "language": "python",
   "name": "python3"
  },
  "language_info": {
   "codemirror_mode": {
    "name": "ipython",
    "version": 3
   },
   "file_extension": ".py",
   "mimetype": "text/x-python",
   "name": "python",
   "nbconvert_exporter": "python",
   "pygments_lexer": "ipython3",
   "version": "3.9.7"
  }
 },
 "nbformat": 4,
 "nbformat_minor": 5
}
